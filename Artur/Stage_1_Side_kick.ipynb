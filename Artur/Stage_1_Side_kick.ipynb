{
 "cells": [
  {
   "cell_type": "code",
   "execution_count": 1,
   "id": "6f5cbc67",
   "metadata": {},
   "outputs": [],
   "source": [
    "import matplotlib.pyplot as plt\n",
    "import pylab\n",
    "import math\n",
    "import copy\n",
    "import os\n",
    "import time\n",
    "import warnings\n",
    "import numpy as np\n",
    "from sklearn.model_selection import train_test_split\n",
    "\n",
    "\n",
    "from IPython.display import clear_output\n",
    "\n",
    "import sys\n",
    "sys.path.append(\"C:\\\\Users\\\\artur\\\\Desktop\\\\QAE\")\n",
    "\n",
    "from matplotlib import set_loglevel\n",
    "set_loglevel(\"error\")\n",
    "%matplotlib inline\n",
    "\n",
    "from qae_utils.Files import create_folder_if_needed, read_json_file, read_ts_file\n",
    "from qae_utils.Charts import multi_plot_flat_ts, meas_plot\n",
    "from qae_utils.Tools import draw_circuit\n",
    "from qae_utils.Window import ts_wind_make, ts_wind_split, ts_wind_flatten_avg\n",
    "from qae_utils.Window import ts_calc_noise, ts_add_noise\n",
    "from qae_utils.Files import read_pickle_file\n",
    "from qae_utils.Files import write_pickle_file"
   ]
  },
  {
   "cell_type": "code",
   "execution_count": 2,
   "id": "d23a77d2",
   "metadata": {},
   "outputs": [],
   "source": [
    "# Load the Mackey-Glass data\n",
    "DATA_PATH = 'aintern/data'\n",
    "DATA_NAME = 'mackey_glass'\n",
    "\n",
    "data_folders = [f for f in os.listdir(DATA_PATH) if f.startswith(DATA_NAME)]\n",
    "    \n",
    "data_folder = data_folders[0]\n",
    "\n",
    "X = read_ts_file(f'{DATA_PATH}/{data_folder}/x_org.arr')\n",
    "y = read_ts_file(f'{DATA_PATH}/{data_folder}/y_org.arr')\n",
    "info = read_json_file(f'{DATA_PATH}/{data_folder}/info.json')"
   ]
  },
  {
   "cell_type": "code",
   "execution_count": 3,
   "id": "2ab6686c",
   "metadata": {},
   "outputs": [],
   "source": [
    "### Libraries used in QAE development\n",
    "\n",
    "# PennyLane imports\n",
    "import pennylane as qml\n",
    "from pennylane import numpy as pnp"
   ]
  },
  {
   "cell_type": "code",
   "execution_count": 4,
   "id": "d8bda4f8",
   "metadata": {},
   "outputs": [],
   "source": [
    "### Quantum simulator\n",
    "sim = 'default.qubit' # default.qubit lightning.qubit lightning.gpu"
   ]
  },
  {
   "cell_type": "code",
   "execution_count": 5,
   "id": "c32166d7",
   "metadata": {},
   "outputs": [
    {
     "name": "stdout",
     "output_type": "stream",
     "text": [
      "QAE Architecture:\n",
      "- Total qubits: 4\n",
      "- Latent space: 2 qubits\n",
      "- Trash space: 2 qubits\n"
     ]
    }
   ],
   "source": [
    "# Half-QAE Architecture Parameters\n",
    "n_qubits = 4     # Total qubits\n",
    "n_latent = 2     \n",
    "n_trash = n_qubits - n_latent \n",
    "\n",
    "print(f\"QAE Architecture:\")\n",
    "print(f\"- Total qubits: {n_qubits}\")\n",
    "print(f\"- Latent space: {n_latent} qubits\")  \n",
    "print(f\"- Trash space: {n_trash} qubits\")\n",
    "\n",
    "# Create quantum device\n",
    "dev = qml.device('default.qubit', wires=n_qubits)"
   ]
  },
  {
   "cell_type": "code",
   "execution_count": 6,
   "id": "477bddcf",
   "metadata": {},
   "outputs": [],
   "source": [
    "# Define the Half-QAE Circuit\n",
    "def encoder_ansatz(params, x):\n",
    "    # 1. Simple angle encoding\n",
    "    for i, val in enumerate(x[:n_qubits]):\n",
    "        qml.RY(val * np.pi, wires=i)\n",
    "    \n",
    "    # 2. Simple variational layers\n",
    "    n_layers = len(params) // (n_qubits * 3)\n",
    "    for layer in range(n_layers):\n",
    "        for i in range(n_qubits):\n",
    "            idx = layer * n_qubits * 3 + i * 3\n",
    "            qml.RX(params[idx], wires=i)\n",
    "            qml.RY(params[idx + 1], wires=i)\n",
    "            qml.RZ(params[idx + 2], wires=i)\n",
    "        \n",
    "        # Simple entanglement\n",
    "        for i in range(n_qubits - 1):\n",
    "            qml.CNOT(wires=[i, i + 1])\n",
    "        qml.CNOT(wires=[n_qubits - 1, 0])\n",
    "\n",
    "def decoder_ansatz(params,x):\n",
    "        # 1. Simple angle encoding\n",
    "    for i, val in enumerate(x[:n_qubits]):\n",
    "        qml.RY(val * np.pi, wires=i)\n",
    "    n_layers = len(params) // (n_qubits * 3)\n",
    "    \n",
    "    for layer in range(n_layers):\n",
    "        # Reverse entanglement\n",
    "        qml.CNOT(wires=[n_qubits - 1, 0])\n",
    "        for i in range(n_qubits - 2, -1, -1):\n",
    "            qml.CNOT(wires=[i + 1, i])\n",
    "        \n",
    "        # Rotations\n",
    "        for i in range(n_qubits):\n",
    "            idx = layer * n_qubits * 3 + i * 3\n",
    "            qml.RZ(params[idx + 2], wires=i)\n",
    "            qml.RY(params[idx + 1], wires=i)\n",
    "            qml.RX(params[idx], wires=i)\n"
   ]
  },
  {
   "cell_type": "code",
   "execution_count": 7,
   "id": "66daa1ca",
   "metadata": {},
   "outputs": [],
   "source": [
    "@qml.qnode(dev, diff_method=\"backprop\")\n",
    "def decoder_circuit(dec_params, x):\n",
    "    decoder_ansatz(dec_params, x)\n",
    "    return [qml.expval(qml.PauliZ(i)) for i in range(n_qubits)]\n"
   ]
  },
  {
   "cell_type": "code",
   "execution_count": 8,
   "id": "d117ad5c",
   "metadata": {},
   "outputs": [],
   "source": [
    "# Prepare training data with sliding windows\n",
    "window_size = n_qubits\n",
    "stride = 1\n",
    "\n",
    "X_windows = []\n",
    "for i in range(0, len(y) - window_size + 1, stride):\n",
    "    window = y[i:i + window_size]\n",
    "    X_windows.append(window)\n",
    "\n",
    "X_windows = np.array(X_windows)\n",
    "\n",
    "# Split into train/validation/test\n",
    "X_temp, X_test = train_test_split(X_windows, test_size=0.2, random_state=42)\n",
    "X_train, X_val = train_test_split(X_temp, test_size=0.25, random_state=42)  # 0.25 * 0.8 = 0.2 of total\n"
   ]
  },
  {
   "cell_type": "code",
   "execution_count": 9,
   "id": "a5bd7430",
   "metadata": {},
   "outputs": [],
   "source": [
    "#TRAINING SETTINGS\n",
    "n_epochs = 100\n",
    "batch_size = 8  \n",
    "learning_rate = 0.01\n",
    "n_layers = 2\n",
    "\n",
    "np.random.seed(42)\n",
    "init_scale = 0.0\n",
    "enc_param_shape = n_layers * n_qubits * 3\n",
    "dec_param_shape = n_layers * n_qubits * 3\n",
    "\n",
    "enc_params = pnp.array(np.random.uniform(-init_scale, init_scale, enc_param_shape), requires_grad=True)\n",
    "dec_params = pnp.array(np.random.uniform(-init_scale, init_scale, dec_param_shape), requires_grad=True)"
   ]
  },
  {
   "cell_type": "code",
   "execution_count": 10,
   "id": "6f82fa75",
   "metadata": {},
   "outputs": [],
   "source": [
    "# Funkcja kosztu dla samego dekodera\n",
    "def decoder_only_cost(dec_params, X_batch):\n",
    "    total_cost = 0.0\n",
    "    for x in X_batch:\n",
    "        output_raw = decoder_circuit(dec_params, x)\n",
    "        output_scaled = []\n",
    "        for o in output_raw:\n",
    "            o_val = float(o) if hasattr(o, 'numpy') else o\n",
    "            scaled = (o_val + 1) / 2 * (info['scale_high'] - info['scale_low']) + info['scale_low']\n",
    "            output_scaled.append(scaled)\n",
    "        output_scaled = pnp.array(output_scaled)\n",
    "        x_tensor = pnp.array(x)\n",
    "        mse = pnp.mean((x_tensor - output_scaled)**2)\n",
    "        total_cost += mse\n",
    "    return total_cost / len(X_batch)"
   ]
  },
  {
   "cell_type": "code",
   "execution_count": 11,
   "id": "7472c008",
   "metadata": {},
   "outputs": [
    {
     "name": "stdout",
     "output_type": "stream",
     "text": [
      "Epoch   0: Decoder cost = 0.039695\n",
      "Epoch  10: Decoder cost = 0.012724\n",
      "Epoch  20: Decoder cost = 0.006238\n",
      "Epoch  30: Decoder cost = 0.005340\n",
      "Epoch  40: Decoder cost = 0.004744\n",
      "Epoch  50: Decoder cost = 0.004477\n",
      "Epoch  60: Decoder cost = 0.003693\n",
      "Epoch  70: Decoder cost = 0.004723\n",
      "Epoch  80: Decoder cost = 0.005160\n",
      "Epoch  90: Decoder cost = 0.003318\n",
      "Trening dekodera zakończony!\n"
     ]
    }
   ],
   "source": [
    "# Pętla treningowa dla samego dekodera\n",
    "def train_decoder_only(dec_params_init, n_epochs=50, batch_size=8, lr=0.01):\n",
    "    params = pnp.array(dec_params_init, requires_grad=True)\n",
    "    opt = qml.AdamOptimizer(stepsize=lr)\n",
    "    history = []\n",
    "    for epoch in range(n_epochs):\n",
    "        idx = np.random.permutation(len(X_train))\n",
    "        cost_epoch = 0.0\n",
    "        n_batches = 0\n",
    "        for i in range(0, len(X_train), batch_size):\n",
    "            batch_idx = idx[i:i+batch_size]\n",
    "            Xb = X_train[batch_idx]\n",
    "            params, cost = opt.step_and_cost(lambda p: decoder_only_cost(p, Xb), params)\n",
    "            cost_epoch += float(cost)\n",
    "            n_batches += 1\n",
    "        avg_cost = cost_epoch / n_batches\n",
    "        history.append(avg_cost)\n",
    "        if epoch % 10 == 0:\n",
    "            print(f\"Epoch {epoch:3d}: Decoder cost = {avg_cost:.6f}\")\n",
    "    print(\"Trening dekodera zakończony!\")\n",
    "    return params, history\n",
    "\n",
    "# Inicjalizacja i trening\n",
    "dec_params_init = pnp.array(np.random.uniform(-0.01, 0.01, dec_param_shape), requires_grad=True)\n",
    "dec_params_trained, decoder_train_history = train_decoder_only(dec_params_init, n_epochs=100, batch_size=8, lr=0.01)"
   ]
  },
  {
   "cell_type": "code",
   "execution_count": 12,
   "id": "e537001d",
   "metadata": {},
   "outputs": [
    {
     "data": {
      "image/png": "[encoded data removed]",
      "text/plain": [
       "<Figure size 1200x300 with 4 Axes>"
      ]
     },
     "metadata": {},
     "output_type": "display_data"
    }
   ],
   "source": [
    "import matplotlib.pyplot as plt\n",
    "\n",
    "outputs_all = [decoder_circuit(dec_params_trained, x) for x in X_test[:100]]\n",
    "outputs_all = np.array(outputs_all)\n",
    "\n",
    "plt.figure(figsize=(12, 3))\n",
    "for i in range(outputs_all.shape[1]):\n",
    "    plt.subplot(1, outputs_all.shape[1], i+1)\n",
    "    plt.hist(outputs_all[:, i], bins=20, alpha=0.7)\n",
    "    plt.title(f'Qubit {i}')\n",
    "    plt.xlabel('PauliZ expectation')\n",
    "plt.tight_layout()\n",
    "plt.show()"
   ]
  },
  {
   "cell_type": "code",
   "execution_count": null,
   "id": "c4fbb2cd",
   "metadata": {},
   "outputs": [],
   "source": []
  },
  {
   "cell_type": "markdown",
   "id": "6c896418",
   "metadata": {},
   "source": [
    "## STAGE 2"
   ]
  },
  {
   "cell_type": "code",
   "execution_count": 13,
   "id": "4ea80dcc",
   "metadata": {},
   "outputs": [],
   "source": [
    "### Swap test\n",
    "#   data_wires: wires with data to be tested\n",
    "#   comp_wires: wires with data to be compared against\n",
    "#   test_wire: measured wire\n",
    "#def swap_test(data_wires, comp_wires, test_wire):\n",
    "#    n_wires = range(len(data_wires)+len(comp_wires) + 1)\n",
    "#    n_aux_wire = len(data_wires)+len(comp_wires)\n",
    "    \n",
    "#    qml.Hadamard(test_wire)\n",
    "#    for i in range(len(data_wires)):\n",
    "#        qml.CSWAP([test_wire, data_wires[i], comp_wires[i]])    \n",
    "#    qml.Hadamard(test_wire)"
   ]
  },
  {
   "cell_type": "code",
   "execution_count": null,
   "id": "433bb6a3",
   "metadata": {},
   "outputs": [
    {
     "data": {
      "image/png": "[encoded data removed]",
      "text/plain": [
       "<Figure size 700x500 with 1 Axes>"
      ]
     },
     "metadata": {},
     "output_type": "display_data"
    }
   ],
   "source": [
    "### Swap test wrapper\n",
    "#def test_swap_test(data_wires, comp_wires, test_wire):\n",
    "#    for w in range(0, test_wire): qml.RY(w, w)\n",
    "#    qml.Barrier(data_wires+comp_wires+[test_wire])\n",
    "#    swap_test(data_wires, comp_wires, test_wire)\n",
    "#    qml.Barrier(data_wires+comp_wires+[test_wire])\n",
    "#    for w in comp_wires: qml.measure(w, reset=True)\n",
    "#    qml.Barrier(data_wires+comp_wires+[test_wire])\n",
    "#    return qml.probs(wires=test_wire)\n",
    "    \n",
    "### Testing swap test\n",
    "#shots = 1\n",
    "#n_wires = 9\n",
    "#data_wires = [0, 1, 2]\n",
    "#trash_wires = [4, 5, 6]\n",
    "#aux_wire = 8\n",
    "\n",
    "#dev_shots = qml.device('lightning.qubit', wires=n_wires, shots=shots)\n",
    "\n",
    "#swap_qc = qml.QNode(test_swap_test, dev_shots, interface='torch')\n",
    "#draw_circuit(swap_qc, scale=0.5, title='Swap Test', level='gradient') \\\n",
    "#    (data_wires, trash_wires, aux_wire) # expansion_strategy='device'/'gradient'"
   ]
  },
  {
   "cell_type": "code",
   "execution_count": null,
   "id": "d64c305b",
   "metadata": {},
   "outputs": [],
   "source": [
    "# @qml.qnode(dev, diff_method=\"backprop\")\n",
    "# def sidekick_encoder(enc_params, x):\n",
    "#     encoder_ansatz(enc_params, x)\n",
    "#     return [qml.expval(qml.PauliZ(i)) for i in range(n_qubits)]"
   ]
  },
  {
   "cell_type": "code",
   "execution_count": null,
   "id": "729f4e11",
   "metadata": {},
   "outputs": [],
   "source": [
    "# @qml.qnode(dev, diff_method=\"backprop\")\n",
    "# def sidekick_decoder(dec_params, x):\n",
    "#     decoder_ansatz(dec_params, x)\n",
    "#     return [qml.expval(qml.PauliZ(i)) for i in range(n_qubits)]"
   ]
  },
  {
   "cell_type": "code",
   "execution_count": null,
   "id": "47afdb17",
   "metadata": {},
   "outputs": [],
   "source": [
    "# latent_indices = list(range(n_latent))  # np. [0, 1]\n",
    "\n",
    "# def get_latents(model, params, x, indices):\n",
    "#     outputs = model(params, x)\n",
    "#     return [outputs[i] for i in indices]"
   ]
  },
  {
   "cell_type": "code",
   "execution_count": null,
   "id": "ee55f37a",
   "metadata": {},
   "outputs": [],
   "source": [
    "# def test_swap(enc_params, dec_params, x_noisy, x_clean, indices):\n",
    "#     n = len(indices)\n",
    "#     dev_swap = qml.device('default.qubit', wires=2*n+1, shots=100)\n",
    "#     @qml.qnode(dev_swap)\n",
    "#     def circuit(enc_params, dec_params, x_noisy, x_clean):\n",
    "#         # Przygotuj latent encoder na pierwszych n kubitach\n",
    "#         qml.templates.AngleEmbedding(x_noisy[:n], wires=range(n))\n",
    "#         encoder_ansatz(enc_params, x_noisy)\n",
    "#         # Przygotuj latent decoder na kolejnych n kubitach\n",
    "#         qml.templates.AngleEmbedding(x_clean[:n], wires=range(n, 2*n))\n",
    "#         decoder_ansatz(dec_params, x_clean)\n",
    "#         aux = 2*n\n",
    "#         qml.Hadamard(wires=aux)\n",
    "#         for i in range(n):\n",
    "#             qml.CSWAP(wires=[aux, i, n+i])\n",
    "#         qml.Hadamard(wires=aux)\n",
    "#         return qml.probs(wires=aux)\n",
    "#     return circuit(enc_params, dec_params, x_noisy, x_clean)"
   ]
  },
  {
   "cell_type": "code",
   "execution_count": null,
   "id": "d81147e4",
   "metadata": {},
   "outputs": [],
   "source": [
    "# def swap_test_latents(enc_params, dec_params, x_noisy, x_clean, indices):\n",
    "#     n = len(indices)\n",
    "#     dev_swap = qml.device('default.qubit', wires=2*n+1, shots=200)\n",
    "#     @qml.qnode(dev_swap)\n",
    "#     def circuit(enc_params, dec_params, x_noisy, x_clean):\n",
    "#         qml.templates.AngleEmbedding(x_noisy[:n], wires=range(n))\n",
    "#         enc_lat = get_latents(sidekick_encoder, enc_params, x_noisy, indices)\n",
    "#         qml.templates.AngleEmbedding(x_clean[:n], wires=range(n, 2*n))\n",
    "#         dec_lat = get_latents(sidekick_decoder, dec_params, x_clean, indices)\n",
    "#         # Dodajemy 3 rotacje dla każdego kubitu\n",
    "#         for i in range(n):\n",
    "#             qml.RX(enc_lat[i], wires=i)\n",
    "#             qml.RY(enc_lat[i], wires=i)\n",
    "#             qml.RZ(enc_lat[i], wires=i)\n",
    "#             qml.RX(dec_lat[i], wires=n+i)\n",
    "#             qml.RY(dec_lat[i], wires=n+i)\n",
    "#             qml.RZ(dec_lat[i], wires=n+i)\n",
    "#         aux = 2*n\n",
    "#         qml.Hadamard(wires=aux)\n",
    "#         for i in range(n):\n",
    "#             qml.CSWAP(wires=[aux, i, n+i])\n",
    "#         qml.Hadamard(wires=aux)\n",
    "#         return qml.probs(wires=aux)\n",
    "#     return circuit(enc_params, dec_params, x_noisy, x_clean)"
   ]
  },
  {
   "cell_type": "code",
   "execution_count": null,
   "id": "bba548cf",
   "metadata": {},
   "outputs": [],
   "source": [
    "# def encoder_swap_cost(enc_params, dec_params, X_noisy, X_clean, indices):\n",
    "#     cost = 0.0\n",
    "#     for x_noisy, x_clean in zip(X_noisy, X_clean):\n",
    "#         probs = swap_test_latents(enc_params, dec_params, x_noisy, x_clean, indices)\n",
    "#         # Swap test: im bliżej 1, tym bardziej podobne stany\n",
    "#         # Koszt: minimalizujemy 1 - P(0)\n",
    "#         cost += 1 - probs[0]\n",
    "#     return cost / len(X_noisy)"
   ]
  },
  {
   "cell_type": "code",
   "execution_count": null,
   "id": "06a42615",
   "metadata": {},
   "outputs": [],
   "source": [
    "# def train_encoder(enc_params_init, dec_params_frozen, X_noisy, X_clean, indices, n_epochs=50, batch_size=8, lr=0.01):\n",
    "#     params = pnp.array(enc_params_init, requires_grad=True)\n",
    "#     opt = qml.AdamOptimizer(stepsize=lr)\n",
    "#     history = []\n",
    "#     for epoch in range(n_epochs):\n",
    "#         idx = np.random.permutation(len(X_noisy))\n",
    "#         cost_epoch = 0.0\n",
    "#         n_batches = 0\n",
    "#         for i in range(0, len(X_noisy), batch_size):\n",
    "#             batch_idx = idx[i:i+batch_size]\n",
    "#             Xn = X_noisy[batch_idx]\n",
    "#             Xc = X_clean[batch_idx]\n",
    "#             params, cost = opt.step_and_cost(lambda p: encoder_swap_cost(p, dec_params_frozen, Xn, Xc, indices), params)\n",
    "#             cost_epoch += float(cost)\n",
    "#             n_batches += 1\n",
    "#         avg_cost = cost_epoch / n_batches\n",
    "#         history.append(avg_cost)\n",
    "#         if epoch % 10 == 0:\n",
    "#             print(f\"Epoch {epoch:3d}: Swap cost = {avg_cost:.6f}\")\n",
    "#     print(\"Trening enkodera zakończony!\")\n",
    "#     return params, history\n"
   ]
  },
  {
   "cell_type": "code",
   "execution_count": null,
   "id": "bc39f498",
   "metadata": {},
   "outputs": [],
   "source": [
    "# enc_params_init = pnp.array(np.random.uniform(-0.01, 0.01, enc_param_shape), requires_grad=True)\n",
    "# X_train_clean = X_train\n",
    "# # Dodaj szum do danych treningowych (np. szum Gaussa o zadanym poziomie)\n",
    "# noise = 0.1  # dostosuj poziom szumu według potrzeb\n",
    "# X_train_noisy = ts_add_noise(X_train, noise=noise)"
   ]
  },
  {
   "cell_type": "code",
   "execution_count": 23,
   "id": "f80c74f4",
   "metadata": {},
   "outputs": [],
   "source": [
    "# enc_params_trained, encoder_train_history = train_encoder(\n",
    "# enc_params_init, dec_params_trained, X_train_noisy, X_train_clean, latent_indices,\n",
    "# n_epochs=100, batch_size=8, lr=0.01)"
   ]
  },
  {
   "cell_type": "code",
   "execution_count": null,
   "id": "49ce64a0",
   "metadata": {},
   "outputs": [],
   "source": [
    "# import matplotlib.pyplot as plt\n",
    "\n",
    "# # Wartości enkodera\n",
    "# encoder_outputs = [sidekick_encoder(enc_params_trained, x) for x in X_test[:100]]\n",
    "# encoder_outputs = np.array(encoder_outputs)\n",
    "\n",
    "# # Wartości dekodera\n",
    "# decoder_outputs = [sidekick_decoder(dec_params_trained, x) for x in X_test[:100]]\n",
    "# decoder_outputs = np.array(decoder_outputs)\n",
    "\n",
    "# plt.figure(figsize=(12, 6))\n",
    "# for i in range(encoder_outputs.shape[1]):\n",
    "#     plt.subplot(2, encoder_outputs.shape[1], i+1)\n",
    "#     plt.hist(encoder_outputs[:, i], bins=20, alpha=0.7, color='blue')\n",
    "#     plt.title(f'Encoder Qubit {i}')\n",
    "#     plt.xlabel('PauliZ exp.')\n",
    "\n",
    "# for i in range(decoder_outputs.shape[1]):\n",
    "#     plt.subplot(2, decoder_outputs.shape[1], encoder_outputs.shape[1]+i+1)\n",
    "#     plt.hist(decoder_outputs[:, i], bins=20, alpha=0.7, color='green')\n",
    "#     plt.title(f'Decoder Qubit {i}')\n",
    "#     plt.xlabel('PauliZ exp.')\n",
    "\n",
    "# plt.tight_layout()\n",
    "# plt.show()"
   ]
  },
  {
   "cell_type": "code",
   "execution_count": null,
   "id": "4bce1482",
   "metadata": {},
   "outputs": [],
   "source": [
    "# def swap_test_latents(enc_params, dec_params, x_noisy, x_clean, indices):\n",
    "#     n = len(indices)\n",
    "#     dev_swap = qml.device('default.qubit', wires=2*n+1, shots=200)\n",
    "#     @qml.qnode(dev_swap)\n",
    "#     def circuit(enc_params, dec_params, x_noisy, x_clean):\n",
    "#         enc_lat = get_latents(sidekick_encoder, enc_params, x_noisy, indices)\n",
    "#         dec_lat = get_latents(sidekick_decoder, dec_params, x_clean, indices)\n",
    "#         # Dodajemy 3 rotacje dla każdego kubitu\n",
    "#         for i in range(n):\n",
    "#             qml.RX(enc_lat[i], wires=i)\n",
    "#             qml.RY(enc_lat[i], wires=i)\n",
    "#             qml.RZ(enc_lat[i], wires=i)\n",
    "#             qml.RX(dec_lat[i], wires=n+i)\n",
    "#             qml.RY(dec_lat[i], wires=n+i)\n",
    "#             qml.RZ(dec_lat[i], wires=n+i)\n",
    "#         aux = 2*n\n",
    "#         qml.Hadamard(wires=aux)\n",
    "#         for i in range(n):\n",
    "#             qml.CSWAP(wires=[aux, i, n+i])\n",
    "#         qml.Hadamard(wires=aux)\n",
    "#         return qml.probs(wires=aux)\n",
    "#     return circuit(enc_params, dec_params, x_noisy, x_clean)"
   ]
  },
  {
   "cell_type": "code",
   "execution_count": null,
   "id": "07fbd56a",
   "metadata": {},
   "outputs": [],
   "source": [
    "\n",
    "\n",
    "# # Przykładowa analiza swap testu na danych testowych\n",
    "# n_samples = 20  # liczba próbek do sprawdzenia\n",
    "# swap_probs = []\n",
    "# swap_similarities = []\n",
    "\n",
    "# for x_noisy, x_clean in zip(X_test[:n_samples], X_test[:n_samples]):\n",
    "#     probs = swap_test_latents(enc_params_trained, dec_params_trained, x_noisy, x_clean, latent_indices)\n",
    "#     swap_probs.append(probs)\n",
    "#     # Podobieństwo (overlap^2) = 2 * P(0) - 1\n",
    "#     similarity = 2 * probs[0] - 1\n",
    "#     swap_similarities.append(similarity)\n",
    "\n",
    "# swap_probs = np.array(swap_probs)\n",
    "# swap_similarities = np.array(swap_similarities)\n",
    "\n",
    "# #print(\"Prawdopodobieństwa pomiaru |0> na kubicie pomocniczym (pierwsze 5):\")\n",
    "# #print(swap_probs)\n",
    "# #print(\"Podobieństwo (overlap^2) (pierwsze 5):\")\n",
    "# #print(swap_similarities)\n",
    "\n",
    "# plt.figure(figsize=(6,3))\n",
    "# plt.hist(swap_similarities, bins=10, color='purple', alpha=0.7)\n",
    "# plt.xlabel(\"Podobieństwo (overlap^2)\")\n",
    "# plt.ylabel(\"Liczba próbek\")\n",
    "# plt.title(\"Histogram podobieństw swap testu (test set)\")\n",
    "# plt.show()"
   ]
  },
  {
   "cell_type": "code",
   "execution_count": 14,
   "id": "2c3deb00",
   "metadata": {},
   "outputs": [],
   "source": [
    "latent_indices = list(range(n_latent))  "
   ]
  },
  {
   "cell_type": "code",
   "execution_count": 15,
   "id": "aa075d13",
   "metadata": {},
   "outputs": [],
   "source": [
    "def encoder_ansatz(params, x, wires):\n",
    "    n_qubits = len(wires)\n",
    "    for i, val in enumerate(x[:n_qubits]):\n",
    "        qml.RY(val * np.pi, wires=wires[i])\n",
    "    n_layers = len(params) // (n_qubits * 3)\n",
    "    for layer in range(n_layers):\n",
    "        for i in range(n_qubits):\n",
    "            idx = layer * n_qubits * 3 + i * 3\n",
    "            qml.RX(params[idx], wires=wires[i])\n",
    "            qml.RY(params[idx + 1], wires=wires[i])\n",
    "            qml.RZ(params[idx + 2], wires=wires[i])\n",
    "        for i in range(n_qubits - 1):\n",
    "            qml.CNOT(wires=[wires[i], wires[i + 1]])\n",
    "        qml.CNOT(wires=[wires[-1], wires[0]])\n",
    "\n",
    "def decoder_ansatz(params, x, wires):\n",
    "    n_qubits = len(wires)\n",
    "    for i, val in enumerate(x[:n_qubits]):\n",
    "        qml.RY(val * np.pi, wires=wires[i])\n",
    "    n_layers = len(params) // (n_qubits * 3)\n",
    "    for layer in range(n_layers):\n",
    "        qml.CNOT(wires=[wires[-1], wires[0]])\n",
    "        for i in range(n_qubits - 2, -1, -1):\n",
    "            qml.CNOT(wires=[wires[i + 1], wires[i]])\n",
    "        for i in range(n_qubits):\n",
    "            idx = layer * n_qubits * 3 + i * 3\n",
    "            qml.RZ(params[idx + 2], wires=wires[i])\n",
    "            qml.RY(params[idx + 1], wires=wires[i])\n",
    "            qml.RX(params[idx], wires=wires[i])"
   ]
  },
  {
   "cell_type": "code",
   "execution_count": 16,
   "id": "b7cb6584",
   "metadata": {},
   "outputs": [],
   "source": [
    "def swap_test_latent_qubits(enc_params, dec_params, x_noisy, x_clean, latent_indices):\n",
    "    n = len(latent_indices)\n",
    "    dev_swap = qml.device('lightning.qubit', wires=2*n+1, shots=200)\n",
    "    @qml.qnode(dev_swap)\n",
    "    def circuit(enc_params, dec_params, x_noisy, x_clean):\n",
    "        encoder_ansatz(enc_params, x_noisy, wires=range(n))\n",
    "        decoder_ansatz(dec_params, x_clean, wires=range(n, 2*n))\n",
    "        aux = 2*n\n",
    "        qml.Hadamard(wires=aux)\n",
    "        for i in range(n):\n",
    "            qml.CSWAP(wires=[aux, i, n+i])\n",
    "        qml.Hadamard(wires=aux)\n",
    "        return qml.probs(wires=aux)\n",
    "    return circuit(enc_params, dec_params, x_noisy, x_clean)"
   ]
  },
  {
   "cell_type": "code",
   "execution_count": null,
   "id": "586c99ba",
   "metadata": {},
   "outputs": [],
   "source": [
    "def encoder_swap_cost_full(enc_params, dec_params, X_noisy, X_clean, latent_indices):\n",
    "    cost = 0.0\n",
    "    for x_noisy, x_clean in zip(X_noisy, X_clean):\n",
    "        probs = swap_test_latent_qubits(enc_params, dec_params, x_noisy, x_clean, latent_indices)\n",
    "        cost += 1 - probs[0] \n",
    "    return cost / len(X_noisy)"
   ]
  },
  {
   "cell_type": "code",
   "execution_count": 18,
   "id": "83e72aa5",
   "metadata": {},
   "outputs": [],
   "source": [
    "def train_encoder_full(enc_params_init, dec_params_frozen, X_noisy, X_clean, latent_indices, n_epochs=50, batch_size=8, lr=0.01):\n",
    "    params = pnp.array(enc_params_init, requires_grad=True)\n",
    "    opt = qml.AdamOptimizer(stepsize=lr)\n",
    "    history = []\n",
    "    for epoch in range(n_epochs):\n",
    "        idx = np.random.permutation(len(X_noisy))\n",
    "        cost_epoch = 0.0\n",
    "        n_batches = 0\n",
    "        for i in range(0, len(X_noisy), batch_size):\n",
    "            batch_idx = idx[i:i+batch_size]\n",
    "            Xn = X_noisy[batch_idx]\n",
    "            Xc = X_clean[batch_idx]\n",
    "            params, cost = opt.step_and_cost(lambda p: encoder_swap_cost_full(p, dec_params_frozen, Xn, Xc, latent_indices), params)\n",
    "            cost_epoch += float(cost)\n",
    "            n_batches += 1\n",
    "        avg_cost = cost_epoch / n_batches\n",
    "        history.append(avg_cost)\n",
    "        if epoch % 10 == 0:\n",
    "            print(f\"Epoch {epoch:3d}: Swap cost = {avg_cost:.6f}\")\n",
    "    print(\"Trening enkodera zakończony!\")\n",
    "    return params, history"
   ]
  },
  {
   "cell_type": "code",
   "execution_count": 19,
   "id": "5adfd4cd",
   "metadata": {},
   "outputs": [],
   "source": [
    "enc_params_init = pnp.array(np.random.uniform(-0.01, 0.01, enc_param_shape), requires_grad=True)\n",
    "X_train_clean = X_train\n",
    "noise = 0.1  \n",
    "X_train_noisy = ts_add_noise(X_train, noise=noise)"
   ]
  },
  {
   "cell_type": "code",
   "execution_count": 20,
   "id": "60a9a050",
   "metadata": {},
   "outputs": [
    {
     "name": "stdout",
     "output_type": "stream",
     "text": [
      "Epoch   0: Swap cost = 0.371875\n",
      "Epoch  10: Swap cost = 0.016016\n",
      "Epoch  20: Swap cost = 0.015625\n",
      "Epoch  30: Swap cost = 0.010625\n",
      "Epoch  40: Swap cost = 0.014922\n",
      "Epoch  50: Swap cost = 0.014375\n",
      "Epoch  60: Swap cost = 0.012109\n",
      "Epoch  70: Swap cost = 0.009531\n",
      "Epoch  80: Swap cost = 0.012500\n",
      "Epoch  90: Swap cost = 0.008984\n",
      "Trening enkodera zakończony!\n"
     ]
    }
   ],
   "source": [
    "enc_params_trained, encoder_train_history = train_encoder_full(\n",
    "enc_params_init, dec_params_trained, X_train_noisy, X_train_clean, latent_indices,\n",
    "n_epochs=100, batch_size=8, lr=0.01)"
   ]
  },
  {
   "cell_type": "code",
   "execution_count": 21,
   "id": "cb93e6f3",
   "metadata": {},
   "outputs": [],
   "source": [
    "@qml.qnode(dev, diff_method=\"backprop\")\n",
    "def sidekick_encoder(enc_params, x):\n",
    "    encoder_ansatz(enc_params, x, wires=range(n_qubits))\n",
    "    return [qml.expval(qml.PauliZ(i)) for i in range(n_qubits)]\n",
    "\n",
    "@qml.qnode(dev, diff_method=\"backprop\")\n",
    "def sidekick_decoder(dec_params, x):\n",
    "    decoder_ansatz(dec_params, x, wires=range(n_qubits))\n",
    "    return [qml.expval(qml.PauliZ(i)) for i in range(n_qubits)]"
   ]
  },
  {
   "cell_type": "code",
   "execution_count": 22,
   "id": "f6776ec6",
   "metadata": {},
   "outputs": [
    {
     "data": {
      "image/png": "[encoded data removed]",
      "text/plain": [
       "<Figure size 1200x600 with 8 Axes>"
      ]
     },
     "metadata": {},
     "output_type": "display_data"
    }
   ],
   "source": [
    "import matplotlib.pyplot as plt\n",
    "\n",
    "# Wartości wszystkich kubitów enkodera\n",
    "encoder_outputs = [sidekick_encoder(enc_params_trained, x) for x in X_test[:100]]\n",
    "encoder_outputs = np.array(encoder_outputs)\n",
    "\n",
    "# Wartości wszystkich kubitów dekodera\n",
    "decoder_outputs = [sidekick_decoder(dec_params_trained, x) for x in X_test[:100]]\n",
    "decoder_outputs = np.array(decoder_outputs)\n",
    "\n",
    "plt.figure(figsize=(12, 6))\n",
    "for i in range(encoder_outputs.shape[1]):\n",
    "    plt.subplot(2, encoder_outputs.shape[1], i+1)\n",
    "    plt.hist(encoder_outputs[:, i], bins=20, alpha=0.7, color='blue')\n",
    "    plt.title(f'Encoder Qubit {i}')\n",
    "    plt.xlabel('PauliZ exp.')\n",
    "\n",
    "    plt.subplot(2, decoder_outputs.shape[1], encoder_outputs.shape[1]+i+1)\n",
    "    plt.hist(decoder_outputs[:, i], bins=20, alpha=0.7, color='green')\n",
    "    plt.title(f'Decoder Qubit {i}')\n",
    "    plt.xlabel('PauliZ exp.')\n",
    "\n",
    "plt.tight_layout()\n",
    "plt.show()"
   ]
  },
  {
   "cell_type": "code",
   "execution_count": null,
   "id": "487b069e",
   "metadata": {},
   "outputs": [
    {
     "data": {
      "image/png": "[encoded data removed]",
      "text/plain": [
       "<Figure size 600x300 with 1 Axes>"
      ]
     },
     "metadata": {},
     "output_type": "display_data"
    }
   ],
   "source": [
    "n_samples = 20  # liczba próbek do sprawdzenia\n",
    "swap_probs = []\n",
    "swap_similarities = []\n",
    "\n",
    "for x_noisy, x_clean in zip(X_test[:n_samples], X_test[:n_samples]):\n",
    "    probs = swap_test_latent_qubits(enc_params_trained, dec_params_trained, x_noisy, x_clean, latent_indices)\n",
    "    swap_probs.append(probs)\n",
    "    similarity = 2 * probs[0] - 1\n",
    "    swap_similarities.append(similarity)\n",
    "\n",
    "swap_probs = np.array(swap_probs)\n",
    "swap_similarities = np.array(swap_similarities)\n",
    "\n",
    "plt.figure(figsize=(6,3))\n",
    "plt.hist(swap_similarities, bins=10, color='purple', alpha=0.7)\n",
    "plt.xlabel(\"Podobieństwo (overlap^2)\")\n",
    "plt.ylabel(\"Liczba próbek\")\n",
    "plt.title(\"Histogram podobieństw swap testu (test set)\")\n",
    "plt.show()"
   ]
  },
  {
   "cell_type": "code",
   "execution_count": null,
   "id": "6d53f04f",
   "metadata": {},
   "outputs": [],
   "source": []
  }
 ],
 "metadata": {
  "kernelspec": {
   "display_name": ".venv",
   "language": "python",
   "name": "python3"
  },
  "language_info": {
   "codemirror_mode": {
    "name": "ipython",
    "version": 3
   },
   "file_extension": ".py",
   "mimetype": "text/x-python",
   "name": "python",
   "nbconvert_exporter": "python",
   "pygments_lexer": "ipython3",
   "version": "3.11.9"
  }
 },
 "nbformat": 4,
 "nbformat_minor": 5
}
